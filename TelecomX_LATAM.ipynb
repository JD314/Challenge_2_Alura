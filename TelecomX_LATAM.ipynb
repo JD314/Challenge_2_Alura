{
  "cells": [
    {
      "cell_type": "code",
      "execution_count": 4,
      "metadata": {},
      "outputs": [],
      "source": [
        "import pandas as pd\n",
        "import numpy as np\n",
        "import matplotlib.pyplot as plt\n",
        "import seaborn as sns"
      ]
    },
    {
      "cell_type": "markdown",
      "metadata": {
        "id": "4foVEKhrlqcH"
      },
      "source": [
        "### ETL"
      ]
    },
    {
      "cell_type": "code",
      "execution_count": 43,
      "metadata": {
        "id": "1--uPM88l7JH"
      },
      "outputs": [
        {
          "data": {
            "text/plain": [
              "array(['DSL', 'Fiber optic', 'No'], dtype=object)"
            ]
          },
          "execution_count": 43,
          "metadata": {},
          "output_type": "execute_result"
        }
      ],
      "source": [
        "# get data from \"API\"\n",
        "data = 'https://raw.githubusercontent.com/ingridcristh/challenge2-data-science-LATAM/refs/heads/main/TelecomX_Data.json'\n",
        "data_raw = pd.read_json(data)\n",
        "\n",
        "data = data_raw.iloc[:, 0:2]\n",
        "\n",
        "# Unpack json dictionary\n",
        "for column in ['customer', 'phone', 'internet', 'account']:\n",
        "    data = pd.concat([data, pd.json_normalize(data_raw[column])], axis=1)\n",
        "\n",
        "del data_raw\n",
        "\n",
        "# Columns with binary values (0 / 1) (Yes / No)\n",
        "binary_data = ['Churn','SeniorCitizen', 'Partner', 'Dependents', 'PhoneService',\n",
        "        'MultipleLines', 'OnlineSecurity', 'OnlineBackup', 'DeviceProtection',\n",
        "        'TechSupport', 'StreamingTV', 'StreamingMovies', 'PaperlessBilling']\n",
        "\n",
        "# Transform binary values to 0 / 1 / NaN\n",
        "to_binary = lambda x: 1 if x in ['Yes', 'yes', '1'] else 0 if x in ['No', 'no', '0'] else np.nan\n",
        "data[binary_data] = data[binary_data].map(to_binary)\n"
      ]
    }
  ],
  "metadata": {
    "colab": {
      "provenance": []
    },
    "kernelspec": {
      "display_name": "Python 3",
      "name": "python3"
    },
    "language_info": {
      "codemirror_mode": {
        "name": "ipython",
        "version": 3
      },
      "file_extension": ".py",
      "mimetype": "text/x-python",
      "name": "python",
      "nbconvert_exporter": "python",
      "pygments_lexer": "ipython3",
      "version": "3.13.3"
    }
  },
  "nbformat": 4,
  "nbformat_minor": 0
}
